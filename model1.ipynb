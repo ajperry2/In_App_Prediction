{
 "cells": [
  {
   "cell_type": "code",
   "execution_count": 1,
   "metadata": {
    "ExecuteTime": {
     "end_time": "2019-02-17T19:05:45.888738Z",
     "start_time": "2019-02-17T19:05:44.990077Z"
    }
   },
   "outputs": [],
   "source": [
    "import pandas as pd\n",
    "from sklearn.model_selection import train_test_split\n",
    "from xgboost import XGBClassifier"
   ]
  },
  {
   "cell_type": "code",
   "execution_count": 2,
   "metadata": {
    "ExecuteTime": {
     "end_time": "2019-02-17T19:05:48.037588Z",
     "start_time": "2019-02-17T19:05:45.891758Z"
    }
   },
   "outputs": [],
   "source": [
    "events = pd.read_csv('features_events.csv').set_index('user_id')\n",
    "sessions = pd.read_csv('features_session.csv')\n",
    "sessions['user_id'] = sessions['id_']\n",
    "sessions = sessions.drop(['id_', 'is_first_session'], axis=1).set_index('user_id')\n",
    "labels14 = pd.read_csv('labels14.csv').set_index('user_id')\n",
    "labels7 = pd.read_csv('labels7.csv').set_index('user_id')"
   ]
  },
  {
   "cell_type": "code",
   "execution_count": 3,
   "metadata": {
    "ExecuteTime": {
     "end_time": "2019-02-17T19:06:42.562388Z",
     "start_time": "2019-02-17T19:05:48.039092Z"
    }
   },
   "outputs": [],
   "source": [
    "users = pd.read_csv('data/user_dict.csv', header=None)\n",
    "inv_user_dict = {row[1][1]:row[1][0] for row in users.iterrows()}"
   ]
  },
  {
   "cell_type": "code",
   "execution_count": 4,
   "metadata": {
    "ExecuteTime": {
     "end_time": "2019-02-17T19:06:44.334302Z",
     "start_time": "2019-02-17T19:06:42.565103Z"
    }
   },
   "outputs": [],
   "source": [
    "data14 = labels14.join(events).join(sessions)\n",
    "data7 = labels7.join(events).join(sessions)\n",
    "y14 = data14['label']\n",
    "X14 = data14.drop('label', axis=1)\n",
    "y7 = data7['label']\n",
    "X7 = data7.drop('label', axis=1)"
   ]
  },
  {
   "cell_type": "code",
   "execution_count": 5,
   "metadata": {
    "ExecuteTime": {
     "end_time": "2019-02-17T19:06:44.836085Z",
     "start_time": "2019-02-17T19:06:44.337543Z"
    }
   },
   "outputs": [],
   "source": [
    "X14_train, X14_test, y14_train, y14_test = train_test_split(X14, y14, test_size=0.2, random_state=42)\n",
    "X7_train, X7_test, y7_train, y7_test = train_test_split(X7, y7, test_size=0.2, random_state=42)"
   ]
  },
  {
   "cell_type": "markdown",
   "metadata": {},
   "source": [
    "### Model 1 - XGBoost"
   ]
  },
  {
   "cell_type": "code",
   "execution_count": 6,
   "metadata": {
    "ExecuteTime": {
     "end_time": "2019-02-17T19:09:47.498517Z",
     "start_time": "2019-02-17T19:06:44.837593Z"
    }
   },
   "outputs": [
    {
     "data": {
      "text/plain": [
       "XGBClassifier(base_score=0.5, booster='gbtree', colsample_bylevel=1,\n",
       "       colsample_bytree=1, gamma=0, learning_rate=0.1, max_delta_step=0,\n",
       "       max_depth=7, min_child_weight=1, missing=None, n_estimators=100,\n",
       "       n_jobs=1, nthread=None, objective='binary:logistic', random_state=0,\n",
       "       reg_alpha=0, reg_lambda=1, scale_pos_weight=100, seed=None,\n",
       "       silent=True, subsample=1)"
      ]
     },
     "execution_count": 6,
     "metadata": {},
     "output_type": "execute_result"
    }
   ],
   "source": [
    "# 14 day model\n",
    "max_depth = 7\n",
    "scale_pos_weight = 100    # helps with unbalanced data\n",
    "# eval_set = [(X_train, y_train), (X_test, y_test)]\n",
    "xgb14 = XGBClassifier(max_depth=max_depth, scale_pos_weight=scale_pos_weight)\n",
    "xgb14.fit(X14_train, y14_train)"
   ]
  },
  {
   "cell_type": "code",
   "execution_count": 7,
   "metadata": {
    "ExecuteTime": {
     "end_time": "2019-02-17T19:09:48.161792Z",
     "start_time": "2019-02-17T19:09:47.500239Z"
    }
   },
   "outputs": [],
   "source": [
    "from sklearn.metrics import roc_curve\n",
    "from sklearn.metrics import auc\n",
    "false_positive_rate, true_positive_rate, thresholds = roc_curve(y14_test, xgb14.predict_proba(X14_test)[:,1])"
   ]
  },
  {
   "cell_type": "code",
   "execution_count": 8,
   "metadata": {
    "ExecuteTime": {
     "end_time": "2019-02-17T19:09:48.170949Z",
     "start_time": "2019-02-17T19:09:48.163498Z"
    }
   },
   "outputs": [
    {
     "data": {
      "text/plain": [
       "0.9566629924287051"
      ]
     },
     "execution_count": 8,
     "metadata": {},
     "output_type": "execute_result"
    }
   ],
   "source": [
    "auc(false_positive_rate, true_positive_rate)"
   ]
  },
  {
   "cell_type": "code",
   "execution_count": 9,
   "metadata": {
    "ExecuteTime": {
     "end_time": "2019-02-17T19:12:52.980815Z",
     "start_time": "2019-02-17T19:09:48.172758Z"
    }
   },
   "outputs": [
    {
     "data": {
      "text/plain": [
       "XGBClassifier(base_score=0.5, booster='gbtree', colsample_bylevel=1,\n",
       "       colsample_bytree=1, gamma=0, learning_rate=0.1, max_delta_step=0,\n",
       "       max_depth=7, min_child_weight=1, missing=None, n_estimators=100,\n",
       "       n_jobs=1, nthread=None, objective='binary:logistic', random_state=0,\n",
       "       reg_alpha=0, reg_lambda=1, scale_pos_weight=100, seed=None,\n",
       "       silent=True, subsample=1)"
      ]
     },
     "execution_count": 9,
     "metadata": {},
     "output_type": "execute_result"
    }
   ],
   "source": [
    "# 7 day model\n",
    "max_depth = 7\n",
    "scale_pos_weight = 100    # this is supposed to help with unbalanced data\n",
    "# eval_set = [(X_train, y_train), (X_test, y_test)]\n",
    "xgb7 = XGBClassifier(max_depth=max_depth, scale_pos_weight=scale_pos_weight)\n",
    "xgb7.fit(X7_train, y7_train)"
   ]
  },
  {
   "cell_type": "code",
   "execution_count": 10,
   "metadata": {
    "ExecuteTime": {
     "end_time": "2019-02-17T19:12:53.635209Z",
     "start_time": "2019-02-17T19:12:52.982536Z"
    }
   },
   "outputs": [],
   "source": [
    "from sklearn.metrics import roc_curve\n",
    "from sklearn.metrics import auc\n",
    "false_positive_rate7, true_positive_rate7, thresholds7 = roc_curve(y7_test, xgb7.predict_proba(X7_test)[:,1])"
   ]
  },
  {
   "cell_type": "code",
   "execution_count": 11,
   "metadata": {
    "ExecuteTime": {
     "end_time": "2019-02-17T19:12:53.641060Z",
     "start_time": "2019-02-17T19:12:53.636982Z"
    }
   },
   "outputs": [
    {
     "data": {
      "text/plain": [
       "0.9669524015567605"
      ]
     },
     "execution_count": 11,
     "metadata": {},
     "output_type": "execute_result"
    }
   ],
   "source": [
    "auc(false_positive_rate7, true_positive_rate7)"
   ]
  },
  {
   "cell_type": "markdown",
   "metadata": {},
   "source": [
    "### Model 2 - Random Forest"
   ]
  },
  {
   "cell_type": "code",
   "execution_count": 12,
   "metadata": {
    "ExecuteTime": {
     "end_time": "2019-02-17T19:12:53.644898Z",
     "start_time": "2019-02-17T19:12:53.642888Z"
    }
   },
   "outputs": [],
   "source": [
    "# from sklearn.ensemble import RandomForestClassifier\n",
    "# rf14 = RandomForestClassifier(class_weight='balanced')\n",
    "# rf14.fit(X14_train, y14_train)"
   ]
  },
  {
   "cell_type": "markdown",
   "metadata": {},
   "source": [
    "### Predict on full data for kaggle submission"
   ]
  },
  {
   "cell_type": "code",
   "execution_count": 80,
   "metadata": {
    "ExecuteTime": {
     "end_time": "2019-02-17T20:15:07.026830Z",
     "start_time": "2019-02-17T20:15:03.503315Z"
    }
   },
   "outputs": [],
   "source": [
    "events_full = pd.read_csv('features_events_full.csv')\\\n",
    "                .set_index('user_id')\n",
    "sessions_full = pd.read_csv('features_session_full.csv')\n",
    "                    \n",
    "sessions_full['user_id'] = sessions_full['id_']\n",
    "sessions_full = sessions_full.drop(['id_', 'is_first_session'], axis=1)\\\n",
    "                .drop_duplicates()\\\n",
    "                .groupby('user_id', as_index=False)\\\n",
    "                .mean()\\\n",
    "                .set_index('user_id')\n",
    "X_full = events_full.join(sessions_full, how='left')"
   ]
  },
  {
   "cell_type": "code",
   "execution_count": 65,
   "metadata": {
    "ExecuteTime": {
     "end_time": "2019-02-17T19:54:11.342207Z",
     "start_time": "2019-02-17T19:54:04.780324Z"
    }
   },
   "outputs": [],
   "source": [
    "y14_pred = xgb14.predict_proba(X_full)\n",
    "y7_pred = xgb7.predict_proba(X_full)"
   ]
  },
  {
   "cell_type": "code",
   "execution_count": 66,
   "metadata": {
    "ExecuteTime": {
     "end_time": "2019-02-17T19:54:51.976088Z",
     "start_time": "2019-02-17T19:54:51.968749Z"
    }
   },
   "outputs": [],
   "source": [
    "predictions = pd.DataFrame({'user_id_hash':X_full.index,\n",
    "                            'user_purchase_binary_7_days':y7_pred[:,1],\n",
    "                            'user_purchase_binary_14_days':y14_pred[:,1]})"
   ]
  },
  {
   "cell_type": "code",
   "execution_count": 67,
   "metadata": {
    "ExecuteTime": {
     "end_time": "2019-02-17T19:56:30.577317Z",
     "start_time": "2019-02-17T19:56:29.932603Z"
    }
   },
   "outputs": [
    {
     "data": {
      "text/html": [
       "<div>\n",
       "<style scoped>\n",
       "    .dataframe tbody tr th:only-of-type {\n",
       "        vertical-align: middle;\n",
       "    }\n",
       "\n",
       "    .dataframe tbody tr th {\n",
       "        vertical-align: top;\n",
       "    }\n",
       "\n",
       "    .dataframe thead th {\n",
       "        text-align: right;\n",
       "    }\n",
       "</style>\n",
       "<table border=\"1\" class=\"dataframe\">\n",
       "  <thead>\n",
       "    <tr style=\"text-align: right;\">\n",
       "      <th></th>\n",
       "      <th>user_id_hash</th>\n",
       "      <th>user_purchase_binary_7_days</th>\n",
       "      <th>user_purchase_binary_14_days</th>\n",
       "    </tr>\n",
       "  </thead>\n",
       "  <tbody>\n",
       "    <tr>\n",
       "      <th>0</th>\n",
       "      <td>dfa54ccdb64bddfc2ea6a1da90e3a908cd9250bddfd6a8...</td>\n",
       "      <td>0.002602</td>\n",
       "      <td>0.012577</td>\n",
       "    </tr>\n",
       "    <tr>\n",
       "      <th>1</th>\n",
       "      <td>c4d7c49762e7fdfac7eaba9975d26c4bc555cab68a3c94...</td>\n",
       "      <td>0.019203</td>\n",
       "      <td>0.069680</td>\n",
       "    </tr>\n",
       "    <tr>\n",
       "      <th>2</th>\n",
       "      <td>ffb2f6b4dba62a448604b775a14acce44cd7dd5af33ec7...</td>\n",
       "      <td>0.043153</td>\n",
       "      <td>0.062002</td>\n",
       "    </tr>\n",
       "    <tr>\n",
       "      <th>3</th>\n",
       "      <td>f9d94bf4c5e6f44ab3623f589dc406dd32eb9b712ddfad...</td>\n",
       "      <td>0.028472</td>\n",
       "      <td>0.042903</td>\n",
       "    </tr>\n",
       "    <tr>\n",
       "      <th>4</th>\n",
       "      <td>233442a2c9452f0301f9a7b280ef077064ab98b8c88623...</td>\n",
       "      <td>0.243211</td>\n",
       "      <td>0.350147</td>\n",
       "    </tr>\n",
       "  </tbody>\n",
       "</table>\n",
       "</div>"
      ],
      "text/plain": [
       "                                        user_id_hash  \\\n",
       "0  dfa54ccdb64bddfc2ea6a1da90e3a908cd9250bddfd6a8...   \n",
       "1  c4d7c49762e7fdfac7eaba9975d26c4bc555cab68a3c94...   \n",
       "2  ffb2f6b4dba62a448604b775a14acce44cd7dd5af33ec7...   \n",
       "3  f9d94bf4c5e6f44ab3623f589dc406dd32eb9b712ddfad...   \n",
       "4  233442a2c9452f0301f9a7b280ef077064ab98b8c88623...   \n",
       "\n",
       "   user_purchase_binary_7_days  user_purchase_binary_14_days  \n",
       "0                     0.002602                      0.012577  \n",
       "1                     0.019203                      0.069680  \n",
       "2                     0.043153                      0.062002  \n",
       "3                     0.028472                      0.042903  \n",
       "4                     0.243211                      0.350147  "
      ]
     },
     "execution_count": 67,
     "metadata": {},
     "output_type": "execute_result"
    }
   ],
   "source": [
    "predictions['user_id_hash'] = predictions['user_id_hash'].map(inv_user_dict)\n",
    "predictions.head()"
   ]
  },
  {
   "cell_type": "code",
   "execution_count": 68,
   "metadata": {
    "ExecuteTime": {
     "end_time": "2019-02-17T19:56:35.743796Z",
     "start_time": "2019-02-17T19:56:35.187819Z"
    }
   },
   "outputs": [
    {
     "data": {
      "text/html": [
       "<div>\n",
       "<style scoped>\n",
       "    .dataframe tbody tr th:only-of-type {\n",
       "        vertical-align: middle;\n",
       "    }\n",
       "\n",
       "    .dataframe tbody tr th {\n",
       "        vertical-align: top;\n",
       "    }\n",
       "\n",
       "    .dataframe thead th {\n",
       "        text-align: right;\n",
       "    }\n",
       "</style>\n",
       "<table border=\"1\" class=\"dataframe\">\n",
       "  <thead>\n",
       "    <tr style=\"text-align: right;\">\n",
       "      <th></th>\n",
       "      <th>user_id_hash</th>\n",
       "      <th>samp7</th>\n",
       "      <th>samp14</th>\n",
       "    </tr>\n",
       "  </thead>\n",
       "  <tbody>\n",
       "    <tr>\n",
       "      <th>0</th>\n",
       "      <td>e469dfaed039ead9110165d9bc457acb11609ca34057dc...</td>\n",
       "      <td>0.01</td>\n",
       "      <td>0.02</td>\n",
       "    </tr>\n",
       "    <tr>\n",
       "      <th>1</th>\n",
       "      <td>afcc639a324b6c598ef83d360450afa011cb2dd1358bf9...</td>\n",
       "      <td>0.01</td>\n",
       "      <td>0.02</td>\n",
       "    </tr>\n",
       "    <tr>\n",
       "      <th>2</th>\n",
       "      <td>fd5a7cf211d08e3e00f7be6a9df6e6ea3d2e5c22a5d9c3...</td>\n",
       "      <td>0.01</td>\n",
       "      <td>0.02</td>\n",
       "    </tr>\n",
       "    <tr>\n",
       "      <th>3</th>\n",
       "      <td>00bfff98b9d0329f014c2eeac7ce47cd18b2bc6e10d608...</td>\n",
       "      <td>0.01</td>\n",
       "      <td>0.02</td>\n",
       "    </tr>\n",
       "    <tr>\n",
       "      <th>4</th>\n",
       "      <td>0d298f3638c43e915c119d4935e1ce8d168f81b5e3e8c1...</td>\n",
       "      <td>0.01</td>\n",
       "      <td>0.02</td>\n",
       "    </tr>\n",
       "  </tbody>\n",
       "</table>\n",
       "</div>"
      ],
      "text/plain": [
       "                                        user_id_hash  samp7  samp14\n",
       "0  e469dfaed039ead9110165d9bc457acb11609ca34057dc...   0.01    0.02\n",
       "1  afcc639a324b6c598ef83d360450afa011cb2dd1358bf9...   0.01    0.02\n",
       "2  fd5a7cf211d08e3e00f7be6a9df6e6ea3d2e5c22a5d9c3...   0.01    0.02\n",
       "3  00bfff98b9d0329f014c2eeac7ce47cd18b2bc6e10d608...   0.01    0.02\n",
       "4  0d298f3638c43e915c119d4935e1ce8d168f81b5e3e8c1...   0.01    0.02"
      ]
     },
     "execution_count": 68,
     "metadata": {},
     "output_type": "execute_result"
    }
   ],
   "source": [
    "samp_submission = pd.read_csv('data/sample_submission_2.csv')\n",
    "samp_submission = samp_submission.rename(index=str, columns={\"user_purchase_binary_7_days\": \"samp7\",\n",
    "                                                             \"user_purchase_binary_14_days\": \"samp14\"})\n",
    "samp_submission.head()"
   ]
  },
  {
   "cell_type": "code",
   "execution_count": 69,
   "metadata": {
    "ExecuteTime": {
     "end_time": "2019-02-17T19:56:41.978180Z",
     "start_time": "2019-02-17T19:56:41.569492Z"
    }
   },
   "outputs": [],
   "source": [
    "submission = pd.merge(samp_submission, predictions, how='left', on='user_id_hash')"
   ]
  },
  {
   "cell_type": "code",
   "execution_count": 74,
   "metadata": {
    "ExecuteTime": {
     "end_time": "2019-02-17T20:00:29.775571Z",
     "start_time": "2019-02-17T20:00:29.759556Z"
    }
   },
   "outputs": [
    {
     "data": {
      "text/html": [
       "<div>\n",
       "<style scoped>\n",
       "    .dataframe tbody tr th:only-of-type {\n",
       "        vertical-align: middle;\n",
       "    }\n",
       "\n",
       "    .dataframe tbody tr th {\n",
       "        vertical-align: top;\n",
       "    }\n",
       "\n",
       "    .dataframe thead th {\n",
       "        text-align: right;\n",
       "    }\n",
       "</style>\n",
       "<table border=\"1\" class=\"dataframe\">\n",
       "  <thead>\n",
       "    <tr style=\"text-align: right;\">\n",
       "      <th></th>\n",
       "      <th>user_id_hash</th>\n",
       "      <th>user_purchase_binary_7_days</th>\n",
       "      <th>user_purchase_binary_14_days</th>\n",
       "    </tr>\n",
       "  </thead>\n",
       "  <tbody>\n",
       "    <tr>\n",
       "      <th>0</th>\n",
       "      <td>e469dfaed039ead9110165d9bc457acb11609ca34057dc...</td>\n",
       "      <td>0.022761</td>\n",
       "      <td>0.034179</td>\n",
       "    </tr>\n",
       "    <tr>\n",
       "      <th>1</th>\n",
       "      <td>afcc639a324b6c598ef83d360450afa011cb2dd1358bf9...</td>\n",
       "      <td>0.026022</td>\n",
       "      <td>0.077285</td>\n",
       "    </tr>\n",
       "    <tr>\n",
       "      <th>2</th>\n",
       "      <td>fd5a7cf211d08e3e00f7be6a9df6e6ea3d2e5c22a5d9c3...</td>\n",
       "      <td>0.024990</td>\n",
       "      <td>0.029626</td>\n",
       "    </tr>\n",
       "    <tr>\n",
       "      <th>3</th>\n",
       "      <td>00bfff98b9d0329f014c2eeac7ce47cd18b2bc6e10d608...</td>\n",
       "      <td>0.017702</td>\n",
       "      <td>0.064583</td>\n",
       "    </tr>\n",
       "    <tr>\n",
       "      <th>4</th>\n",
       "      <td>0d298f3638c43e915c119d4935e1ce8d168f81b5e3e8c1...</td>\n",
       "      <td>0.002762</td>\n",
       "      <td>0.007739</td>\n",
       "    </tr>\n",
       "  </tbody>\n",
       "</table>\n",
       "</div>"
      ],
      "text/plain": [
       "                                        user_id_hash  \\\n",
       "0  e469dfaed039ead9110165d9bc457acb11609ca34057dc...   \n",
       "1  afcc639a324b6c598ef83d360450afa011cb2dd1358bf9...   \n",
       "2  fd5a7cf211d08e3e00f7be6a9df6e6ea3d2e5c22a5d9c3...   \n",
       "3  00bfff98b9d0329f014c2eeac7ce47cd18b2bc6e10d608...   \n",
       "4  0d298f3638c43e915c119d4935e1ce8d168f81b5e3e8c1...   \n",
       "\n",
       "   user_purchase_binary_7_days  user_purchase_binary_14_days  \n",
       "0                     0.022761                      0.034179  \n",
       "1                     0.026022                      0.077285  \n",
       "2                     0.024990                      0.029626  \n",
       "3                     0.017702                      0.064583  \n",
       "4                     0.002762                      0.007739  "
      ]
     },
     "execution_count": 74,
     "metadata": {},
     "output_type": "execute_result"
    }
   ],
   "source": [
    "submission = submission.drop(columns=['samp7', 'samp14'])\n",
    "submission.head()"
   ]
  },
  {
   "cell_type": "code",
   "execution_count": 77,
   "metadata": {
    "ExecuteTime": {
     "end_time": "2019-02-17T20:03:56.574941Z",
     "start_time": "2019-02-17T20:03:55.273660Z"
    }
   },
   "outputs": [],
   "source": [
    "submission.to_csv(path_or_buf='orange_bears_submission1.csv', index=False)"
   ]
  },
  {
   "cell_type": "code",
   "execution_count": null,
   "metadata": {},
   "outputs": [],
   "source": []
  }
 ],
 "metadata": {
  "kernelspec": {
   "display_name": "Python 3",
   "language": "python",
   "name": "python3"
  },
  "language_info": {
   "codemirror_mode": {
    "name": "ipython",
    "version": 3
   },
   "file_extension": ".py",
   "mimetype": "text/x-python",
   "name": "python",
   "nbconvert_exporter": "python",
   "pygments_lexer": "ipython3",
   "version": "3.6.6"
  }
 },
 "nbformat": 4,
 "nbformat_minor": 2
}
