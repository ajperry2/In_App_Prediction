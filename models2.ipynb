{
 "cells": [
  {
   "cell_type": "code",
   "execution_count": 43,
   "metadata": {
    "ExecuteTime": {
     "end_time": "2019-02-22T23:05:59.148434Z",
     "start_time": "2019-02-22T23:05:59.143134Z"
    }
   },
   "outputs": [],
   "source": [
    "import pandas as pd\n",
    "from sklearn.model_selection import train_test_split\n",
    "from xgboost import XGBClassifier\n",
    "from sklearn.linear_model import LogisticRegression\n",
    "from sklearn.neighbors import KNeighborsClassifier\n",
    "from sklearn.naive_bayes import GaussianNB \n",
    "from sklearn.ensemble import RandomForestClassifier\n",
    "from mlxtend.classifier import StackingClassifier\n",
    "import numpy as np\n",
    "from sklearn.model_selection import GridSearchCV\n",
    "from sklearn.metrics import roc_curve\n",
    "from sklearn.metrics import auc"
   ]
  },
  {
   "cell_type": "code",
   "execution_count": 2,
   "metadata": {
    "ExecuteTime": {
     "end_time": "2019-02-22T22:36:27.790256Z",
     "start_time": "2019-02-22T22:36:24.599523Z"
    }
   },
   "outputs": [],
   "source": [
    "events = pd.read_csv('features_events.csv').set_index('user_id')\n",
    "sessions = pd.read_csv('features_session.csv')\n",
    "sessions['user_id'] = sessions['id_']\n",
    "sessions = sessions.drop(['id_'], axis=1).set_index('user_id')\n",
    "labels14 = pd.read_csv('labels14.csv').set_index('user_id')\n",
    "labels7 = pd.read_csv('labels7.csv').set_index('user_id')"
   ]
  },
  {
   "cell_type": "code",
   "execution_count": 4,
   "metadata": {
    "ExecuteTime": {
     "end_time": "2019-02-22T22:37:57.998936Z",
     "start_time": "2019-02-22T22:37:19.388756Z"
    }
   },
   "outputs": [],
   "source": [
    "users = pd.read_csv('user_dict.csv', header=None)\n",
    "inv_user_dict = {row[1][1]:row[1][0] for row in users.iterrows()}"
   ]
  },
  {
   "cell_type": "code",
   "execution_count": 5,
   "metadata": {
    "ExecuteTime": {
     "end_time": "2019-02-22T22:38:00.036826Z",
     "start_time": "2019-02-22T22:37:58.001559Z"
    }
   },
   "outputs": [],
   "source": [
    "data14 = labels14.join(events).join(sessions)\n",
    "data7 = labels7.join(events).join(sessions)\n",
    "y14 = data14['label']\n",
    "X14 = data14.drop('label', axis=1)\n",
    "y7 = data7['label']\n",
    "X7 = data7.drop('label', axis=1)"
   ]
  },
  {
   "cell_type": "code",
   "execution_count": 6,
   "metadata": {
    "ExecuteTime": {
     "end_time": "2019-02-22T22:38:00.730767Z",
     "start_time": "2019-02-22T22:38:00.039561Z"
    }
   },
   "outputs": [],
   "source": [
    "X14_train, X14_test, y14_train, y14_test = train_test_split(X14, y14, test_size=0.2, random_state=42)\n",
    "X7_train, X7_test, y7_train, y7_test = train_test_split(X7, y7, test_size=0.2, random_state=42)"
   ]
  },
  {
   "cell_type": "code",
   "execution_count": 33,
   "metadata": {
    "ExecuteTime": {
     "end_time": "2019-02-22T22:48:49.263533Z",
     "start_time": "2019-02-22T22:48:48.987671Z"
    }
   },
   "outputs": [],
   "source": [
    "X14_train=X14_train.fillna(0) \n",
    "X14_test=X14_test.fillna(0)\n",
    "y14_train=y14_train.fillna(0)\n",
    "y14_test=y14_test.fillna(0) \n",
    "X7_train=X7_train.fillna(0) \n",
    "X7_test=X7_test.fillna(0)\n",
    "y7_train=y7_train.fillna(0)\n",
    "y7_test=y7_test.fillna(0) "
   ]
  },
  {
   "cell_type": "markdown",
   "metadata": {},
   "source": [
    "### model - logistic regression "
   ]
  },
  {
   "cell_type": "code",
   "execution_count": 115,
   "metadata": {
    "ExecuteTime": {
     "end_time": "2019-02-23T03:37:52.645481Z",
     "start_time": "2019-02-23T03:37:52.642698Z"
    }
   },
   "outputs": [],
   "source": [
    "# 14 days"
   ]
  },
  {
   "cell_type": "code",
   "execution_count": 61,
   "metadata": {
    "ExecuteTime": {
     "end_time": "2019-02-22T23:27:12.988121Z",
     "start_time": "2019-02-22T23:20:10.921468Z"
    }
   },
   "outputs": [
    {
     "name": "stdout",
     "output_type": "stream",
     "text": [
      "Fitting 10 folds for each of 24 candidates, totalling 240 fits\n"
     ]
    },
    {
     "name": "stderr",
     "output_type": "stream",
     "text": [
      "[Parallel(n_jobs=-1)]: Using backend LokyBackend with 4 concurrent workers.\n",
      "[Parallel(n_jobs=-1)]: Done  42 tasks      | elapsed:   56.3s\n",
      "[Parallel(n_jobs=-1)]: Done 192 tasks      | elapsed:  5.7min\n",
      "[Parallel(n_jobs=-1)]: Done 240 out of 240 | elapsed:  6.9min finished\n",
      "/anaconda3/envs/MSDS694/lib/python3.6/site-packages/sklearn/linear_model/logistic.py:433: FutureWarning: Default solver will be changed to 'lbfgs' in 0.22. Specify a solver to silence this warning.\n",
      "  FutureWarning)\n"
     ]
    },
    {
     "data": {
      "text/plain": [
       "GridSearchCV(cv=10, error_score='raise-deprecating',\n",
       "       estimator=LogisticRegression(C=1.0, class_weight=None, dual=False, fit_intercept=True,\n",
       "          intercept_scaling=1, max_iter=100, multi_class='warn',\n",
       "          n_jobs=None, penalty='l2', random_state=None, solver='warn',\n",
       "          tol=0.0001, verbose=0, warm_start=False),\n",
       "       fit_params=None, iid='warn', n_jobs=-1,\n",
       "       param_grid={'C': [0.001, 0.1, 10, 1000], 'penalty': ['l1', 'l2'], 'tol': [0.0001, 0.001, 0.01]},\n",
       "       pre_dispatch='2*n_jobs', refit=True, return_train_score='warn',\n",
       "       scoring='accuracy', verbose=1)"
      ]
     },
     "execution_count": 61,
     "metadata": {},
     "output_type": "execute_result"
    }
   ],
   "source": [
    "param_grid = {'C': [0.001, 0.1, 10, 1000],\n",
    "              'penalty':['l1','l2'],\n",
    "              'tol':[0.0001, 0.001, 0.01]}\n",
    "lr = LogisticRegression()\n",
    "\n",
    "# should change the name to gs_lr_14\n",
    "gs_lr_14 = GridSearchCV(estimator=lr, param_grid=param_grid,       \n",
    "                     scoring='accuracy', cv=10, verbose=1, n_jobs=-1)\n",
    "gs_lr_14.fit(X14_train, y14_train)"
   ]
  },
  {
   "cell_type": "code",
   "execution_count": 44,
   "metadata": {
    "ExecuteTime": {
     "end_time": "2019-02-22T23:06:06.230297Z",
     "start_time": "2019-02-22T23:06:06.196127Z"
    }
   },
   "outputs": [
    {
     "data": {
      "text/plain": [
       "0.919110067117026"
      ]
     },
     "execution_count": 44,
     "metadata": {},
     "output_type": "execute_result"
    }
   ],
   "source": [
    "false_positive_rate, true_positive_rate, thresholds = roc_curve(y14_test, gs_dt.predict_proba(X14_test)[:,1])\n",
    "auc(false_positive_rate, true_positive_rate)"
   ]
  },
  {
   "cell_type": "code",
   "execution_count": 116,
   "metadata": {
    "ExecuteTime": {
     "end_time": "2019-02-23T03:38:00.148415Z",
     "start_time": "2019-02-23T03:38:00.146134Z"
    }
   },
   "outputs": [],
   "source": [
    "# 7 days"
   ]
  },
  {
   "cell_type": "code",
   "execution_count": 45,
   "metadata": {
    "ExecuteTime": {
     "end_time": "2019-02-22T23:13:54.966304Z",
     "start_time": "2019-02-22T23:06:46.023888Z"
    }
   },
   "outputs": [
    {
     "name": "stdout",
     "output_type": "stream",
     "text": [
      "Fitting 10 folds for each of 24 candidates, totalling 240 fits\n"
     ]
    },
    {
     "name": "stderr",
     "output_type": "stream",
     "text": [
      "[Parallel(n_jobs=-1)]: Using backend LokyBackend with 4 concurrent workers.\n",
      "[Parallel(n_jobs=-1)]: Done  42 tasks      | elapsed:   46.5s\n",
      "[Parallel(n_jobs=-1)]: Done 192 tasks      | elapsed:  5.9min\n",
      "[Parallel(n_jobs=-1)]: Done 240 out of 240 | elapsed:  7.1min finished\n",
      "/anaconda3/envs/MSDS694/lib/python3.6/site-packages/sklearn/linear_model/logistic.py:433: FutureWarning: Default solver will be changed to 'lbfgs' in 0.22. Specify a solver to silence this warning.\n",
      "  FutureWarning)\n"
     ]
    },
    {
     "data": {
      "text/plain": [
       "GridSearchCV(cv=10, error_score='raise-deprecating',\n",
       "       estimator=LogisticRegression(C=1.0, class_weight=None, dual=False, fit_intercept=True,\n",
       "          intercept_scaling=1, max_iter=100, multi_class='warn',\n",
       "          n_jobs=None, penalty='l2', random_state=None, solver='warn',\n",
       "          tol=0.0001, verbose=0, warm_start=False),\n",
       "       fit_params=None, iid='warn', n_jobs=-1,\n",
       "       param_grid={'C': [0.001, 0.1, 10, 1000], 'penalty': ['l1', 'l2'], 'tol': [0.0001, 0.001, 0.01]},\n",
       "       pre_dispatch='2*n_jobs', refit=True, return_train_score='warn',\n",
       "       scoring='accuracy', verbose=1)"
      ]
     },
     "execution_count": 45,
     "metadata": {},
     "output_type": "execute_result"
    }
   ],
   "source": [
    "param_grid = {'C': [0.001, 0.1, 10, 1000],\n",
    "              'penalty':['l1','l2'],\n",
    "              'tol':[0.0001, 0.001, 0.01]}\n",
    "lr = LogisticRegression()\n",
    "\n",
    "gs_lr_7 = GridSearchCV(estimator=lr, param_grid=param_grid,\n",
    "                     scoring='accuracy', cv=10, verbose=1, n_jobs=-1)\n",
    "gs_lr_7.fit(X7_train, y7_train)"
   ]
  },
  {
   "cell_type": "code",
   "execution_count": 46,
   "metadata": {
    "ExecuteTime": {
     "end_time": "2019-02-22T23:14:19.827397Z",
     "start_time": "2019-02-22T23:14:19.759691Z"
    }
   },
   "outputs": [
    {
     "data": {
      "text/plain": [
       "0.8680078741432048"
      ]
     },
     "execution_count": 46,
     "metadata": {},
     "output_type": "execute_result"
    }
   ],
   "source": [
    "false_positive_rate, true_positive_rate, thresholds = roc_curve(y14_test, gs_lr_7.predict_proba(X14_test)[:,1])\n",
    "auc(false_positive_rate, true_positive_rate)"
   ]
  },
  {
   "cell_type": "code",
   "execution_count": 200,
   "metadata": {
    "ExecuteTime": {
     "end_time": "2019-02-23T19:20:41.488098Z",
     "start_time": "2019-02-23T19:20:41.483291Z"
    }
   },
   "outputs": [
    {
     "data": {
      "text/plain": [
       "{'C': 0.001, 'penalty': 'l1', 'tol': 0.001}"
      ]
     },
     "execution_count": 200,
     "metadata": {},
     "output_type": "execute_result"
    }
   ],
   "source": [
    "gs_lr_7.best_params_"
   ]
  },
  {
   "cell_type": "code",
   "execution_count": 201,
   "metadata": {
    "ExecuteTime": {
     "end_time": "2019-02-23T19:20:50.698775Z",
     "start_time": "2019-02-23T19:20:50.687287Z"
    }
   },
   "outputs": [
    {
     "data": {
      "text/plain": [
       "{'C': 10, 'penalty': 'l2', 'tol': 0.0001}"
      ]
     },
     "execution_count": 201,
     "metadata": {},
     "output_type": "execute_result"
    }
   ],
   "source": [
    "gs_lr_14.best_params_"
   ]
  },
  {
   "cell_type": "markdown",
   "metadata": {},
   "source": [
    "### Model - XGBoost"
   ]
  },
  {
   "cell_type": "code",
   "execution_count": null,
   "metadata": {},
   "outputs": [],
   "source": [
    "# 14 day model"
   ]
  },
  {
   "cell_type": "code",
   "execution_count": 118,
   "metadata": {
    "ExecuteTime": {
     "end_time": "2019-02-23T03:41:03.842779Z",
     "start_time": "2019-02-23T03:38:44.857200Z"
    }
   },
   "outputs": [
    {
     "data": {
      "text/plain": [
       "XGBClassifier(base_score=0.5, booster='gbtree', colsample_bylevel=1,\n",
       "       colsample_bytree=1, gamma=0, learning_rate=0.1, max_delta_step=0,\n",
       "       max_depth=7, min_child_weight=1, missing=None, n_estimators=100,\n",
       "       n_jobs=1, nthread=None, objective='binary:logistic', random_state=0,\n",
       "       reg_alpha=0, reg_lambda=1, scale_pos_weight=100, seed=None,\n",
       "       silent=True, subsample=1)"
      ]
     },
     "execution_count": 118,
     "metadata": {},
     "output_type": "execute_result"
    }
   ],
   "source": [
    "max_depth = 7\n",
    "scale_pos_weight = 100    # helps with unbalanced data\n",
    "# eval_set = [(X_train, y_train), (X_test, y_test)]\n",
    "xgb14 = XGBClassifier(max_depth=max_depth, scale_pos_weight=scale_pos_weight)\n",
    "xgb14.fit(X14_train, y14_train)"
   ]
  },
  {
   "cell_type": "code",
   "execution_count": 119,
   "metadata": {
    "ExecuteTime": {
     "end_time": "2019-02-23T03:41:40.236586Z",
     "start_time": "2019-02-23T03:41:39.415493Z"
    }
   },
   "outputs": [],
   "source": [
    "false_positive_rate, true_positive_rate, thresholds = roc_curve(y14_test, xgb14.predict_proba(X14_test)[:,1])"
   ]
  },
  {
   "cell_type": "code",
   "execution_count": 120,
   "metadata": {
    "ExecuteTime": {
     "end_time": "2019-02-23T03:41:40.244772Z",
     "start_time": "2019-02-23T03:41:40.239983Z"
    }
   },
   "outputs": [
    {
     "data": {
      "text/plain": [
       "0.9572667149215248"
      ]
     },
     "execution_count": 120,
     "metadata": {},
     "output_type": "execute_result"
    }
   ],
   "source": [
    "auc(false_positive_rate, true_positive_rate)"
   ]
  },
  {
   "cell_type": "code",
   "execution_count": 117,
   "metadata": {
    "ExecuteTime": {
     "end_time": "2019-02-23T03:38:22.377996Z",
     "start_time": "2019-02-23T03:38:22.369709Z"
    }
   },
   "outputs": [],
   "source": [
    "# 7 day model"
   ]
  },
  {
   "cell_type": "code",
   "execution_count": 68,
   "metadata": {
    "ExecuteTime": {
     "end_time": "2019-02-22T23:33:36.170108Z",
     "start_time": "2019-02-22T23:31:13.418565Z"
    }
   },
   "outputs": [
    {
     "data": {
      "text/plain": [
       "XGBClassifier(base_score=0.5, booster='gbtree', colsample_bylevel=1,\n",
       "       colsample_bytree=1, gamma=0, learning_rate=0.1, max_delta_step=0,\n",
       "       max_depth=7, min_child_weight=1, missing=None, n_estimators=100,\n",
       "       n_jobs=1, nthread=None, objective='binary:logistic', random_state=0,\n",
       "       reg_alpha=0, reg_lambda=1, scale_pos_weight=100, seed=None,\n",
       "       silent=True, subsample=1)"
      ]
     },
     "execution_count": 68,
     "metadata": {},
     "output_type": "execute_result"
    }
   ],
   "source": [
    "max_depth = 7\n",
    "scale_pos_weight = 100    # this is supposed to help with unbalanced data\n",
    "# eval_set = [(X_train, y_train), (X_test, y_test)]\n",
    "xgb7 = XGBClassifier(max_depth=max_depth, scale_pos_weight=scale_pos_weight)\n",
    "xgb7.fit(X7_train, y7_train)"
   ]
  },
  {
   "cell_type": "code",
   "execution_count": 69,
   "metadata": {
    "ExecuteTime": {
     "end_time": "2019-02-22T23:33:36.995450Z",
     "start_time": "2019-02-22T23:33:36.173035Z"
    }
   },
   "outputs": [],
   "source": [
    "false_positive_rate7, true_positive_rate7, thresholds7 = roc_curve(y7_test, xgb7.predict_proba(X7_test)[:,1])"
   ]
  },
  {
   "cell_type": "code",
   "execution_count": 70,
   "metadata": {
    "ExecuteTime": {
     "end_time": "2019-02-22T23:33:37.002655Z",
     "start_time": "2019-02-22T23:33:36.997382Z"
    }
   },
   "outputs": [
    {
     "data": {
      "text/plain": [
       "0.967188572279333"
      ]
     },
     "execution_count": 70,
     "metadata": {},
     "output_type": "execute_result"
    }
   ],
   "source": [
    "auc(false_positive_rate7, true_positive_rate7)"
   ]
  },
  {
   "cell_type": "markdown",
   "metadata": {},
   "source": [
    "### Model  - Random Forest"
   ]
  },
  {
   "cell_type": "code",
   "execution_count": 80,
   "metadata": {
    "ExecuteTime": {
     "end_time": "2019-02-23T02:24:11.564659Z",
     "start_time": "2019-02-23T02:11:23.956504Z"
    }
   },
   "outputs": [
    {
     "name": "stdout",
     "output_type": "stream",
     "text": [
      "Fitting 10 folds for each of 36 candidates, totalling 360 fits\n"
     ]
    },
    {
     "name": "stderr",
     "output_type": "stream",
     "text": [
      "[Parallel(n_jobs=-1)]: Using backend LokyBackend with 4 concurrent workers.\n",
      "[Parallel(n_jobs=-1)]: Done  42 tasks      | elapsed:   35.5s\n",
      "[Parallel(n_jobs=-1)]: Done 192 tasks      | elapsed:  3.9min\n",
      "[Parallel(n_jobs=-1)]: Done 360 out of 360 | elapsed: 12.5min finished\n"
     ]
    },
    {
     "data": {
      "text/plain": [
       "GridSearchCV(cv=10, error_score='raise-deprecating',\n",
       "       estimator=RandomForestClassifier(bootstrap=True, class_weight=None, criterion='gini',\n",
       "            max_depth=None, max_features='auto', max_leaf_nodes=None,\n",
       "            min_impurity_decrease=0.0, min_impurity_split=None,\n",
       "            min_samples_leaf=1, min_samples_split=2,\n",
       "            min_weight_fraction_leaf=0.0, n_estimators='warn', n_jobs=None,\n",
       "            oob_score=False, random_state=None, verbose=0,\n",
       "            warm_start=False),\n",
       "       fit_params=None, iid='warn', n_jobs=-1,\n",
       "       param_grid={'n_estimators': [10, 20, 50], 'max_depth': [1, 5, 10], 'min_samples_leaf': [1, 2, 4, 6]},\n",
       "       pre_dispatch='2*n_jobs', refit=True, return_train_score='warn',\n",
       "       scoring='accuracy', verbose=1)"
      ]
     },
     "execution_count": 80,
     "metadata": {},
     "output_type": "execute_result"
    }
   ],
   "source": [
    "clf = RandomForestClassifier()\n",
    "param_grid = { \n",
    "    'n_estimators': [10, 20, 50],\n",
    "    'max_depth' : [1,5,10],\n",
    "    'min_samples_leaf': [1, 2, 4, 6]}\n",
    "gs_rf_7 = GridSearchCV(clf, param_grid=param_grid, scoring='accuracy', cv=10, verbose=1, n_jobs=-1)\n",
    "gs_rf_7.fit(X7_train, y7_train)\n"
   ]
  },
  {
   "cell_type": "code",
   "execution_count": 82,
   "metadata": {
    "ExecuteTime": {
     "end_time": "2019-02-23T02:53:21.301989Z",
     "start_time": "2019-02-23T02:53:20.805144Z"
    }
   },
   "outputs": [
    {
     "data": {
      "text/plain": [
       "0.9732613017514721"
      ]
     },
     "execution_count": 82,
     "metadata": {},
     "output_type": "execute_result"
    }
   ],
   "source": [
    "false_positive_rate7, true_positive_rate7, thresholds7 = roc_curve(y7_test, gs_rf_7.predict_proba(X7_test)[:,1])\n",
    "auc(false_positive_rate7, true_positive_rate7)"
   ]
  },
  {
   "cell_type": "code",
   "execution_count": 81,
   "metadata": {
    "ExecuteTime": {
     "end_time": "2019-02-23T02:51:09.299447Z",
     "start_time": "2019-02-23T02:38:20.876582Z"
    }
   },
   "outputs": [
    {
     "name": "stdout",
     "output_type": "stream",
     "text": [
      "Fitting 10 folds for each of 36 candidates, totalling 360 fits\n"
     ]
    },
    {
     "name": "stderr",
     "output_type": "stream",
     "text": [
      "[Parallel(n_jobs=-1)]: Using backend LokyBackend with 4 concurrent workers.\n",
      "[Parallel(n_jobs=-1)]: Done  42 tasks      | elapsed:   35.2s\n",
      "[Parallel(n_jobs=-1)]: Done 192 tasks      | elapsed:  3.9min\n",
      "[Parallel(n_jobs=-1)]: Done 360 out of 360 | elapsed: 12.6min finished\n"
     ]
    },
    {
     "data": {
      "text/plain": [
       "GridSearchCV(cv=10, error_score='raise-deprecating',\n",
       "       estimator=RandomForestClassifier(bootstrap=True, class_weight=None, criterion='gini',\n",
       "            max_depth=None, max_features='auto', max_leaf_nodes=None,\n",
       "            min_impurity_decrease=0.0, min_impurity_split=None,\n",
       "            min_samples_leaf=1, min_samples_split=2,\n",
       "            min_weight_fraction_leaf=0.0, n_estimators='warn', n_jobs=None,\n",
       "            oob_score=False, random_state=None, verbose=0,\n",
       "            warm_start=False),\n",
       "       fit_params=None, iid='warn', n_jobs=-1,\n",
       "       param_grid={'n_estimators': [10, 20, 50], 'max_depth': [1, 5, 10], 'min_samples_leaf': [1, 2, 4, 6]},\n",
       "       pre_dispatch='2*n_jobs', refit=True, return_train_score='warn',\n",
       "       scoring='accuracy', verbose=1)"
      ]
     },
     "execution_count": 81,
     "metadata": {},
     "output_type": "execute_result"
    }
   ],
   "source": [
    "gs_rf_14 = GridSearchCV(clf, param_grid=param_grid, scoring='accuracy', cv=10, verbose=1, n_jobs=-1)\n",
    "gs_rf_14.fit(X14_train, y14_train)"
   ]
  },
  {
   "cell_type": "code",
   "execution_count": 195,
   "metadata": {
    "ExecuteTime": {
     "end_time": "2019-02-23T19:11:35.508952Z",
     "start_time": "2019-02-23T19:11:35.002987Z"
    }
   },
   "outputs": [
    {
     "data": {
      "text/plain": [
       "0.9636539245630716"
      ]
     },
     "execution_count": 195,
     "metadata": {},
     "output_type": "execute_result"
    }
   ],
   "source": [
    "false_positive_rate7, true_positive_rate7, thresholds7 = roc_curve(y14_test, gs_rf_14.predict_proba(X14_test)[:,1])\n",
    "auc(false_positive_rate7, true_positive_rate7)"
   ]
  },
  {
   "cell_type": "code",
   "execution_count": 198,
   "metadata": {
    "ExecuteTime": {
     "end_time": "2019-02-23T19:20:03.365540Z",
     "start_time": "2019-02-23T19:20:03.350388Z"
    }
   },
   "outputs": [
    {
     "data": {
      "text/plain": [
       "{'max_depth': 10, 'min_samples_leaf': 1, 'n_estimators': 50}"
      ]
     },
     "execution_count": 198,
     "metadata": {},
     "output_type": "execute_result"
    }
   ],
   "source": [
    "gs_rf_7.best_params_"
   ]
  },
  {
   "cell_type": "code",
   "execution_count": 199,
   "metadata": {
    "ExecuteTime": {
     "end_time": "2019-02-23T19:20:12.206074Z",
     "start_time": "2019-02-23T19:20:12.199254Z"
    }
   },
   "outputs": [
    {
     "data": {
      "text/plain": [
       "{'max_depth': 10, 'min_samples_leaf': 1, 'n_estimators': 50}"
      ]
     },
     "execution_count": 199,
     "metadata": {},
     "output_type": "execute_result"
    }
   ],
   "source": [
    "gs_rf_7.best_params_"
   ]
  },
  {
   "cell_type": "markdown",
   "metadata": {},
   "source": [
    "### model- stacking 1"
   ]
  },
  {
   "cell_type": "code",
   "execution_count": 166,
   "metadata": {
    "ExecuteTime": {
     "end_time": "2019-02-23T04:13:37.376602Z",
     "start_time": "2019-02-23T04:13:37.372975Z"
    }
   },
   "outputs": [],
   "source": [
    "# 7days\n",
    "# https://www.analyticsvidhya.com/blog/2018/06/comprehensive-guide-for-ensemble-models/"
   ]
  },
  {
   "cell_type": "code",
   "execution_count": 196,
   "metadata": {
    "ExecuteTime": {
     "end_time": "2019-02-23T19:12:59.093656Z",
     "start_time": "2019-02-23T19:12:59.091245Z"
    }
   },
   "outputs": [],
   "source": [
    "# base models: rf, lr, xgb\n",
    "# meta model: lr"
   ]
  },
  {
   "cell_type": "code",
   "execution_count": 62,
   "metadata": {
    "ExecuteTime": {
     "end_time": "2019-02-22T23:28:04.258503Z",
     "start_time": "2019-02-22T23:28:04.239620Z"
    }
   },
   "outputs": [],
   "source": [
    "def Stacking(model,train,y,test,n_fold):\n",
    "    folds=StratifiedKFold(n_splits=n_fold,random_state=1)\n",
    "    test_pred=np.empty((test.shape[0],1),float)\n",
    "    train_pred=np.empty((0,1),float)\n",
    "    for train_indices,val_indices in folds.split(train,y.values):\n",
    "        x_train,x_val=train.iloc[train_indices],train.iloc[val_indices]\n",
    "        y_train,y_val=y.iloc[train_indices],y.iloc[val_indices]\n",
    "\n",
    "        model.fit(X=x_train,y=y_train)\n",
    "        train_pred=np.append(train_pred,model.predict(x_val))\n",
    "        test_pred=np.append(test_pred,model.predict(test))\n",
    "    return test_pred.reshape(-1,1),train_pred"
   ]
  },
  {
   "cell_type": "code",
   "execution_count": 105,
   "metadata": {
    "ExecuteTime": {
     "end_time": "2019-02-23T03:27:45.919571Z",
     "start_time": "2019-02-23T03:27:45.778935Z"
    }
   },
   "outputs": [],
   "source": [
    "train_pred_lr7 = pd.DataFrame(gs_lr_7.predict_proba(X7_train)[:,1])\n",
    "test_pred_lr7 = pd.DataFrame(gs_lr_7.predict_proba(X7_test)[:,1])"
   ]
  },
  {
   "cell_type": "code",
   "execution_count": 106,
   "metadata": {
    "ExecuteTime": {
     "end_time": "2019-02-23T03:27:49.780986Z",
     "start_time": "2019-02-23T03:27:46.018735Z"
    }
   },
   "outputs": [],
   "source": [
    "train_pred_xgb7 = pd.DataFrame(xgb7.predict_proba(X7_train)[:,1])\n",
    "test_pred_xgb7 = pd.DataFrame(xgb7.predict_proba(X7_test)[:,1])"
   ]
  },
  {
   "cell_type": "code",
   "execution_count": 107,
   "metadata": {
    "ExecuteTime": {
     "end_time": "2019-02-23T03:27:51.849199Z",
     "start_time": "2019-02-23T03:27:49.783492Z"
    }
   },
   "outputs": [],
   "source": [
    "train_pred_rf7 = pd.DataFrame(gs_rf_7.predict_proba(X7_train)[:,1])\n",
    "test_pred_rf7 = pd.DataFrame(gs_rf_7.predict_proba(X7_test)[:,1])"
   ]
  },
  {
   "cell_type": "code",
   "execution_count": 202,
   "metadata": {
    "ExecuteTime": {
     "end_time": "2019-02-23T19:23:07.438669Z",
     "start_time": "2019-02-23T19:23:06.716684Z"
    }
   },
   "outputs": [
    {
     "name": "stderr",
     "output_type": "stream",
     "text": [
      "/anaconda3/envs/MSDS694/lib/python3.6/site-packages/sklearn/linear_model/logistic.py:433: FutureWarning: Default solver will be changed to 'lbfgs' in 0.22. Specify a solver to silence this warning.\n",
      "  FutureWarning)\n"
     ]
    },
    {
     "data": {
      "text/plain": [
       "0.9684099407491156"
      ]
     },
     "execution_count": 202,
     "metadata": {},
     "output_type": "execute_result"
    }
   ],
   "source": [
    "df = pd.concat([train_pred_lr7, train_pred_xgb7, train_pred_rf7], axis=1)\n",
    "df_test = pd.concat([test_pred_lr7, test_pred_xgb7, test_pred_rf7], axis=1)\n",
    "\n",
    "meta_model_7 = LogisticRegression()\n",
    "meta_model_7.fit(df,y7_train)\n",
    "false_positive_rate, true_positive_rate, thresholds = roc_curve(y7_test, meta_model_7.predict_proba(df_test)[:,1])\n",
    "auc(false_positive_rate, true_positive_rate)"
   ]
  },
  {
   "cell_type": "code",
   "execution_count": 114,
   "metadata": {
    "ExecuteTime": {
     "end_time": "2019-02-23T03:36:45.191851Z",
     "start_time": "2019-02-23T03:36:45.189405Z"
    }
   },
   "outputs": [],
   "source": [
    "# 14 days"
   ]
  },
  {
   "cell_type": "code",
   "execution_count": 121,
   "metadata": {
    "ExecuteTime": {
     "end_time": "2019-02-23T03:42:43.862933Z",
     "start_time": "2019-02-23T03:42:43.800924Z"
    }
   },
   "outputs": [],
   "source": [
    "train_pred_lr14 = pd.DataFrame(gs_lr_14.predict_proba(X7_train)[:,1])\n",
    "test_pred_lr14 = pd.DataFrame(gs_lr_14.predict_proba(X7_test)[:,1])"
   ]
  },
  {
   "cell_type": "code",
   "execution_count": 122,
   "metadata": {
    "ExecuteTime": {
     "end_time": "2019-02-23T03:42:48.710101Z",
     "start_time": "2019-02-23T03:42:44.712393Z"
    }
   },
   "outputs": [],
   "source": [
    "train_pred_xgb14 = pd.DataFrame(xgb14.predict_proba(X7_train)[:,1])\n",
    "test_pred_xgb14 = pd.DataFrame(xgb14.predict_proba(X7_test)[:,1])"
   ]
  },
  {
   "cell_type": "code",
   "execution_count": 123,
   "metadata": {
    "ExecuteTime": {
     "end_time": "2019-02-23T03:42:50.749521Z",
     "start_time": "2019-02-23T03:42:48.712675Z"
    }
   },
   "outputs": [],
   "source": [
    "train_pred_rf14 = pd.DataFrame(gs_rf_14.predict_proba(X7_train)[:,1])\n",
    "test_pred_rf14 = pd.DataFrame(gs_rf_14.predict_proba(X7_test)[:,1])"
   ]
  },
  {
   "cell_type": "code",
   "execution_count": 203,
   "metadata": {
    "ExecuteTime": {
     "end_time": "2019-02-23T19:23:09.505395Z",
     "start_time": "2019-02-23T19:23:08.743653Z"
    }
   },
   "outputs": [
    {
     "name": "stderr",
     "output_type": "stream",
     "text": [
      "/anaconda3/envs/MSDS694/lib/python3.6/site-packages/sklearn/linear_model/logistic.py:433: FutureWarning: Default solver will be changed to 'lbfgs' in 0.22. Specify a solver to silence this warning.\n",
      "  FutureWarning)\n"
     ]
    },
    {
     "data": {
      "text/plain": [
       "0.9585330618824868"
      ]
     },
     "execution_count": 203,
     "metadata": {},
     "output_type": "execute_result"
    }
   ],
   "source": [
    "df = pd.concat([train_pred_lr14, train_pred_xgb14, train_pred_rf14], axis=1)\n",
    "df_test = pd.concat([test_pred_lr14, test_pred_xgb14, test_pred_rf14], axis=1)\n",
    "\n",
    "meta_model_14 = LogisticRegression()\n",
    "meta_model_14.fit(df,y7_train)\n",
    "false_positive_rate, true_positive_rate, thresholds = roc_curve(y14_test, meta_model_14.predict_proba(df_test)[:,1])\n",
    "auc(false_positive_rate, true_positive_rate)"
   ]
  },
  {
   "cell_type": "code",
   "execution_count": 146,
   "metadata": {
    "ExecuteTime": {
     "end_time": "2019-02-23T04:02:42.874160Z",
     "start_time": "2019-02-23T04:02:42.871430Z"
    }
   },
   "outputs": [],
   "source": [
    "# create \"X_full\" for this situation "
   ]
  },
  {
   "cell_type": "code",
   "execution_count": 149,
   "metadata": {
    "ExecuteTime": {
     "end_time": "2019-02-23T04:06:26.220557Z",
     "start_time": "2019-02-23T04:06:14.082129Z"
    }
   },
   "outputs": [],
   "source": [
    "full7_rf = pd.DataFrame(gs_rf_7.predict_proba(X_full)[:,1])\n",
    "full7_xgb = pd.DataFrame(xgb7.predict_proba(X_full)[:,1])\n",
    "full7_lr = pd.DataFrame(gs_lr_7.predict_proba(X_full)[:,1])\n",
    "full7 = pd.concat([full7_rf, full7_xgb, full7_lr], axis=1)\n",
    "\n",
    "full14_rf = pd.DataFrame(gs_rf_14.predict_proba(X_full)[:,1])\n",
    "full14_xgb = pd.DataFrame(xgb14.predict_proba(X_full)[:,1])\n",
    "full14_lr = pd.DataFrame(gs_lr_14.predict_proba(X_full)[:,1])\n",
    "full14 = pd.concat([full14_rf, full14_xgb, full14_lr], axis=1)\n"
   ]
  },
  {
   "cell_type": "markdown",
   "metadata": {},
   "source": [
    "### model stacking 2"
   ]
  },
  {
   "cell_type": "code",
   "execution_count": 174,
   "metadata": {
    "ExecuteTime": {
     "end_time": "2019-02-23T18:56:54.416913Z",
     "start_time": "2019-02-23T18:56:54.412847Z"
    }
   },
   "outputs": [],
   "source": [
    "# 7 days"
   ]
  },
  {
   "cell_type": "code",
   "execution_count": null,
   "metadata": {},
   "outputs": [],
   "source": [
    "# base model: xgb, rf\n",
    "# meta model: lr"
   ]
  },
  {
   "cell_type": "code",
   "execution_count": 177,
   "metadata": {
    "ExecuteTime": {
     "end_time": "2019-02-23T18:58:21.490372Z",
     "start_time": "2019-02-23T18:58:20.840654Z"
    }
   },
   "outputs": [
    {
     "name": "stderr",
     "output_type": "stream",
     "text": [
      "/anaconda3/envs/MSDS694/lib/python3.6/site-packages/sklearn/linear_model/logistic.py:433: FutureWarning: Default solver will be changed to 'lbfgs' in 0.22. Specify a solver to silence this warning.\n",
      "  FutureWarning)\n"
     ]
    },
    {
     "data": {
      "text/plain": [
       "0.9684800089329956"
      ]
     },
     "execution_count": 177,
     "metadata": {},
     "output_type": "execute_result"
    }
   ],
   "source": [
    "# another stacking   \n",
    "df = pd.concat([train_pred_xgb7, train_pred_rf7], axis=1)\n",
    "df_test = pd.concat([test_pred_xgb7, test_pred_rf7], axis=1)\n",
    "\n",
    "meta_model_7 = LogisticRegression()\n",
    "meta_model_7.fit(df,y7_train)\n",
    "false_positive_rate, true_positive_rate, thresholds = roc_curve(y7_test, meta_model_7.predict_proba(df_test)[:,1])\n",
    "auc(false_positive_rate, true_positive_rate)"
   ]
  },
  {
   "cell_type": "code",
   "execution_count": 178,
   "metadata": {
    "ExecuteTime": {
     "end_time": "2019-02-23T18:59:38.484249Z",
     "start_time": "2019-02-23T18:59:38.481193Z"
    }
   },
   "outputs": [],
   "source": [
    "# 14 days"
   ]
  },
  {
   "cell_type": "code",
   "execution_count": 179,
   "metadata": {
    "ExecuteTime": {
     "end_time": "2019-02-23T19:00:16.888059Z",
     "start_time": "2019-02-23T19:00:16.332585Z"
    }
   },
   "outputs": [
    {
     "name": "stderr",
     "output_type": "stream",
     "text": [
      "/anaconda3/envs/MSDS694/lib/python3.6/site-packages/sklearn/linear_model/logistic.py:433: FutureWarning: Default solver will be changed to 'lbfgs' in 0.22. Specify a solver to silence this warning.\n",
      "  FutureWarning)\n"
     ]
    },
    {
     "data": {
      "text/plain": [
       "0.9585370386234808"
      ]
     },
     "execution_count": 179,
     "metadata": {},
     "output_type": "execute_result"
    }
   ],
   "source": [
    "# another stacking \n",
    "df = pd.concat([train_pred_xgb14, train_pred_rf14], axis=1)\n",
    "df_test = pd.concat([test_pred_xgb14, test_pred_rf14], axis=1)\n",
    "\n",
    "meta_model_14 = LogisticRegression()\n",
    "meta_model_14.fit(df,y7_train)\n",
    "false_positive_rate, true_positive_rate, thresholds = roc_curve(y14_test, meta_model_14.predict_proba(df_test)[:,1])\n",
    "auc(false_positive_rate, true_positive_rate)"
   ]
  },
  {
   "cell_type": "code",
   "execution_count": 186,
   "metadata": {
    "ExecuteTime": {
     "end_time": "2019-02-23T19:02:21.875242Z",
     "start_time": "2019-02-23T19:02:10.357413Z"
    }
   },
   "outputs": [],
   "source": [
    "# create X_full for this situation \n",
    "full7_rf = pd.DataFrame(gs_rf_7.predict_proba(X_full)[:,1])\n",
    "full7_xgb = pd.DataFrame(xgb7.predict_proba(X_full)[:,1])\n",
    "full7 = pd.concat([full7_rf, full7_xgb], axis=1)\n",
    "\n",
    "full14_rf = pd.DataFrame(gs_rf_14.predict_proba(X_full)[:,1])\n",
    "full14_xgb = pd.DataFrame(xgb14.predict_proba(X_full)[:,1])\n",
    "full14 = pd.concat([full14_rf, full14_xgb], axis=1)"
   ]
  },
  {
   "cell_type": "markdown",
   "metadata": {},
   "source": [
    "# Predict on full data for kaggle submission"
   ]
  },
  {
   "cell_type": "code",
   "execution_count": 181,
   "metadata": {
    "ExecuteTime": {
     "end_time": "2019-02-23T19:01:19.100126Z",
     "start_time": "2019-02-23T19:01:14.518248Z"
    }
   },
   "outputs": [],
   "source": [
    "events_full = pd.read_csv('features_events_full.csv')\\\n",
    "                .set_index('user_id')\n",
    "sessions_full = pd.read_csv('features_session_full.csv')\n",
    "                    \n",
    "sessions_full['user_id'] = sessions_full['id_']\n",
    "sessions_full = sessions_full.drop(['id_'], axis=1)\\\n",
    "                .drop_duplicates()\\\n",
    "                .groupby('user_id', as_index=False)\\\n",
    "                .mean()\\\n",
    "                .set_index('user_id')\n",
    "X_full = events_full.join(sessions_full, how='left')"
   ]
  },
  {
   "cell_type": "code",
   "execution_count": 182,
   "metadata": {
    "ExecuteTime": {
     "end_time": "2019-02-23T19:01:19.635773Z",
     "start_time": "2019-02-23T19:01:19.102157Z"
    }
   },
   "outputs": [],
   "source": [
    "X_full=X_full.fillna(0) "
   ]
  },
  {
   "cell_type": "code",
   "execution_count": null,
   "metadata": {},
   "outputs": [],
   "source": [
    "y14_pred = meta_model_14.predict_proba(X_full)\n",
    "y7_pred = meta_model_7.predict_proba(X_full)"
   ]
  },
  {
   "cell_type": "code",
   "execution_count": 188,
   "metadata": {
    "ExecuteTime": {
     "end_time": "2019-02-23T19:02:53.717655Z",
     "start_time": "2019-02-23T19:02:53.662264Z"
    }
   },
   "outputs": [],
   "source": [
    "# if it's stacking, use these\n",
    "y14_pred = meta_model_14.predict_proba(full7)\n",
    "y7_pred = meta_model_7.predict_proba(full14)"
   ]
  },
  {
   "cell_type": "code",
   "execution_count": 189,
   "metadata": {
    "ExecuteTime": {
     "end_time": "2019-02-23T19:02:55.752949Z",
     "start_time": "2019-02-23T19:02:55.737083Z"
    }
   },
   "outputs": [],
   "source": [
    "predictions = pd.DataFrame({'user_id_hash':X_full.index,\n",
    "                            'user_purchase_binary_7_days':y7_pred[:,1],\n",
    "                            'user_purchase_binary_14_days':y14_pred[:,1]})"
   ]
  },
  {
   "cell_type": "code",
   "execution_count": 190,
   "metadata": {
    "ExecuteTime": {
     "end_time": "2019-02-23T19:02:57.384232Z",
     "start_time": "2019-02-23T19:02:56.128461Z"
    }
   },
   "outputs": [
    {
     "data": {
      "text/html": [
       "<div>\n",
       "<style scoped>\n",
       "    .dataframe tbody tr th:only-of-type {\n",
       "        vertical-align: middle;\n",
       "    }\n",
       "\n",
       "    .dataframe tbody tr th {\n",
       "        vertical-align: top;\n",
       "    }\n",
       "\n",
       "    .dataframe thead th {\n",
       "        text-align: right;\n",
       "    }\n",
       "</style>\n",
       "<table border=\"1\" class=\"dataframe\">\n",
       "  <thead>\n",
       "    <tr style=\"text-align: right;\">\n",
       "      <th></th>\n",
       "      <th>user_id_hash</th>\n",
       "      <th>user_purchase_binary_7_days</th>\n",
       "      <th>user_purchase_binary_14_days</th>\n",
       "    </tr>\n",
       "  </thead>\n",
       "  <tbody>\n",
       "    <tr>\n",
       "      <th>0</th>\n",
       "      <td>dfa54ccdb64bddfc2ea6a1da90e3a908cd9250bddfd6a8...</td>\n",
       "      <td>0.000276</td>\n",
       "      <td>0.000174</td>\n",
       "    </tr>\n",
       "    <tr>\n",
       "      <th>1</th>\n",
       "      <td>c4d7c49762e7fdfac7eaba9975d26c4bc555cab68a3c94...</td>\n",
       "      <td>0.000354</td>\n",
       "      <td>0.000189</td>\n",
       "    </tr>\n",
       "    <tr>\n",
       "      <th>2</th>\n",
       "      <td>ffb2f6b4dba62a448604b775a14acce44cd7dd5af33ec7...</td>\n",
       "      <td>0.000340</td>\n",
       "      <td>0.000198</td>\n",
       "    </tr>\n",
       "    <tr>\n",
       "      <th>3</th>\n",
       "      <td>f9d94bf4c5e6f44ab3623f589dc406dd32eb9b712ddfad...</td>\n",
       "      <td>0.000316</td>\n",
       "      <td>0.000185</td>\n",
       "    </tr>\n",
       "    <tr>\n",
       "      <th>4</th>\n",
       "      <td>233442a2c9452f0301f9a7b280ef077064ab98b8c88623...</td>\n",
       "      <td>0.002251</td>\n",
       "      <td>0.000791</td>\n",
       "    </tr>\n",
       "  </tbody>\n",
       "</table>\n",
       "</div>"
      ],
      "text/plain": [
       "                                        user_id_hash  \\\n",
       "0  dfa54ccdb64bddfc2ea6a1da90e3a908cd9250bddfd6a8...   \n",
       "1  c4d7c49762e7fdfac7eaba9975d26c4bc555cab68a3c94...   \n",
       "2  ffb2f6b4dba62a448604b775a14acce44cd7dd5af33ec7...   \n",
       "3  f9d94bf4c5e6f44ab3623f589dc406dd32eb9b712ddfad...   \n",
       "4  233442a2c9452f0301f9a7b280ef077064ab98b8c88623...   \n",
       "\n",
       "   user_purchase_binary_7_days  user_purchase_binary_14_days  \n",
       "0                     0.000276                      0.000174  \n",
       "1                     0.000354                      0.000189  \n",
       "2                     0.000340                      0.000198  \n",
       "3                     0.000316                      0.000185  \n",
       "4                     0.002251                      0.000791  "
      ]
     },
     "execution_count": 190,
     "metadata": {},
     "output_type": "execute_result"
    }
   ],
   "source": [
    "predictions['user_id_hash'] = predictions['user_id_hash'].map(inv_user_dict)\n",
    "predictions.head()"
   ]
  },
  {
   "cell_type": "code",
   "execution_count": 191,
   "metadata": {
    "ExecuteTime": {
     "end_time": "2019-02-23T19:02:58.908021Z",
     "start_time": "2019-02-23T19:02:58.355178Z"
    }
   },
   "outputs": [
    {
     "data": {
      "text/html": [
       "<div>\n",
       "<style scoped>\n",
       "    .dataframe tbody tr th:only-of-type {\n",
       "        vertical-align: middle;\n",
       "    }\n",
       "\n",
       "    .dataframe tbody tr th {\n",
       "        vertical-align: top;\n",
       "    }\n",
       "\n",
       "    .dataframe thead th {\n",
       "        text-align: right;\n",
       "    }\n",
       "</style>\n",
       "<table border=\"1\" class=\"dataframe\">\n",
       "  <thead>\n",
       "    <tr style=\"text-align: right;\">\n",
       "      <th></th>\n",
       "      <th>user_id_hash</th>\n",
       "      <th>samp7</th>\n",
       "      <th>samp14</th>\n",
       "    </tr>\n",
       "  </thead>\n",
       "  <tbody>\n",
       "    <tr>\n",
       "      <th>0</th>\n",
       "      <td>e469dfaed039ead9110165d9bc457acb11609ca34057dc...</td>\n",
       "      <td>0.01</td>\n",
       "      <td>0.02</td>\n",
       "    </tr>\n",
       "    <tr>\n",
       "      <th>1</th>\n",
       "      <td>afcc639a324b6c598ef83d360450afa011cb2dd1358bf9...</td>\n",
       "      <td>0.01</td>\n",
       "      <td>0.02</td>\n",
       "    </tr>\n",
       "    <tr>\n",
       "      <th>2</th>\n",
       "      <td>fd5a7cf211d08e3e00f7be6a9df6e6ea3d2e5c22a5d9c3...</td>\n",
       "      <td>0.01</td>\n",
       "      <td>0.02</td>\n",
       "    </tr>\n",
       "    <tr>\n",
       "      <th>3</th>\n",
       "      <td>00bfff98b9d0329f014c2eeac7ce47cd18b2bc6e10d608...</td>\n",
       "      <td>0.01</td>\n",
       "      <td>0.02</td>\n",
       "    </tr>\n",
       "    <tr>\n",
       "      <th>4</th>\n",
       "      <td>0d298f3638c43e915c119d4935e1ce8d168f81b5e3e8c1...</td>\n",
       "      <td>0.01</td>\n",
       "      <td>0.02</td>\n",
       "    </tr>\n",
       "  </tbody>\n",
       "</table>\n",
       "</div>"
      ],
      "text/plain": [
       "                                        user_id_hash  samp7  samp14\n",
       "0  e469dfaed039ead9110165d9bc457acb11609ca34057dc...   0.01    0.02\n",
       "1  afcc639a324b6c598ef83d360450afa011cb2dd1358bf9...   0.01    0.02\n",
       "2  fd5a7cf211d08e3e00f7be6a9df6e6ea3d2e5c22a5d9c3...   0.01    0.02\n",
       "3  00bfff98b9d0329f014c2eeac7ce47cd18b2bc6e10d608...   0.01    0.02\n",
       "4  0d298f3638c43e915c119d4935e1ce8d168f81b5e3e8c1...   0.01    0.02"
      ]
     },
     "execution_count": 191,
     "metadata": {},
     "output_type": "execute_result"
    }
   ],
   "source": [
    "samp_submission = pd.read_csv('sample_submission_2.csv')\n",
    "samp_submission = samp_submission.rename(index=str, columns={\"user_purchase_binary_7_days\": \"samp7\",\n",
    "                                                             \"user_purchase_binary_14_days\": \"samp14\"})\n",
    "samp_submission.head()"
   ]
  },
  {
   "cell_type": "code",
   "execution_count": 192,
   "metadata": {
    "ExecuteTime": {
     "end_time": "2019-02-23T19:03:02.129568Z",
     "start_time": "2019-02-23T19:03:01.679309Z"
    }
   },
   "outputs": [],
   "source": [
    "submission = pd.merge(samp_submission, predictions, how='left', on='user_id_hash')"
   ]
  },
  {
   "cell_type": "code",
   "execution_count": 193,
   "metadata": {
    "ExecuteTime": {
     "end_time": "2019-02-23T19:03:02.167570Z",
     "start_time": "2019-02-23T19:03:02.131605Z"
    }
   },
   "outputs": [
    {
     "data": {
      "text/html": [
       "<div>\n",
       "<style scoped>\n",
       "    .dataframe tbody tr th:only-of-type {\n",
       "        vertical-align: middle;\n",
       "    }\n",
       "\n",
       "    .dataframe tbody tr th {\n",
       "        vertical-align: top;\n",
       "    }\n",
       "\n",
       "    .dataframe thead th {\n",
       "        text-align: right;\n",
       "    }\n",
       "</style>\n",
       "<table border=\"1\" class=\"dataframe\">\n",
       "  <thead>\n",
       "    <tr style=\"text-align: right;\">\n",
       "      <th></th>\n",
       "      <th>user_id_hash</th>\n",
       "      <th>user_purchase_binary_7_days</th>\n",
       "      <th>user_purchase_binary_14_days</th>\n",
       "    </tr>\n",
       "  </thead>\n",
       "  <tbody>\n",
       "    <tr>\n",
       "      <th>0</th>\n",
       "      <td>e469dfaed039ead9110165d9bc457acb11609ca34057dc...</td>\n",
       "      <td>0.000347</td>\n",
       "      <td>0.000200</td>\n",
       "    </tr>\n",
       "    <tr>\n",
       "      <th>1</th>\n",
       "      <td>afcc639a324b6c598ef83d360450afa011cb2dd1358bf9...</td>\n",
       "      <td>0.000379</td>\n",
       "      <td>0.000188</td>\n",
       "    </tr>\n",
       "    <tr>\n",
       "      <th>2</th>\n",
       "      <td>fd5a7cf211d08e3e00f7be6a9df6e6ea3d2e5c22a5d9c3...</td>\n",
       "      <td>0.000303</td>\n",
       "      <td>0.000191</td>\n",
       "    </tr>\n",
       "    <tr>\n",
       "      <th>3</th>\n",
       "      <td>00bfff98b9d0329f014c2eeac7ce47cd18b2bc6e10d608...</td>\n",
       "      <td>0.000363</td>\n",
       "      <td>0.000187</td>\n",
       "    </tr>\n",
       "    <tr>\n",
       "      <th>4</th>\n",
       "      <td>0d298f3638c43e915c119d4935e1ce8d168f81b5e3e8c1...</td>\n",
       "      <td>0.000273</td>\n",
       "      <td>0.000174</td>\n",
       "    </tr>\n",
       "  </tbody>\n",
       "</table>\n",
       "</div>"
      ],
      "text/plain": [
       "                                        user_id_hash  \\\n",
       "0  e469dfaed039ead9110165d9bc457acb11609ca34057dc...   \n",
       "1  afcc639a324b6c598ef83d360450afa011cb2dd1358bf9...   \n",
       "2  fd5a7cf211d08e3e00f7be6a9df6e6ea3d2e5c22a5d9c3...   \n",
       "3  00bfff98b9d0329f014c2eeac7ce47cd18b2bc6e10d608...   \n",
       "4  0d298f3638c43e915c119d4935e1ce8d168f81b5e3e8c1...   \n",
       "\n",
       "   user_purchase_binary_7_days  user_purchase_binary_14_days  \n",
       "0                     0.000347                      0.000200  \n",
       "1                     0.000379                      0.000188  \n",
       "2                     0.000303                      0.000191  \n",
       "3                     0.000363                      0.000187  \n",
       "4                     0.000273                      0.000174  "
      ]
     },
     "execution_count": 193,
     "metadata": {},
     "output_type": "execute_result"
    }
   ],
   "source": [
    "submission = submission.drop(columns=['samp7', 'samp14'])\n",
    "submission.head()"
   ]
  },
  {
   "cell_type": "code",
   "execution_count": 197,
   "metadata": {
    "ExecuteTime": {
     "end_time": "2019-02-23T19:15:33.132113Z",
     "start_time": "2019-02-23T19:15:33.128920Z"
    }
   },
   "outputs": [],
   "source": [
    "# save to csv"
   ]
  },
  {
   "cell_type": "code",
   "execution_count": 194,
   "metadata": {
    "ExecuteTime": {
     "end_time": "2019-02-23T19:03:09.974891Z",
     "start_time": "2019-02-23T19:03:08.245855Z"
    }
   },
   "outputs": [],
   "source": [
    "submission.to_csv(path_or_buf='stacking_2.csv', index=False)"
   ]
  },
  {
   "cell_type": "code",
   "execution_count": null,
   "metadata": {},
   "outputs": [],
   "source": []
  }
 ],
 "metadata": {
  "kernelspec": {
   "display_name": "Python 3",
   "language": "python",
   "name": "python3"
  },
  "language_info": {
   "codemirror_mode": {
    "name": "ipython",
    "version": 3
   },
   "file_extension": ".py",
   "mimetype": "text/x-python",
   "name": "python",
   "nbconvert_exporter": "python",
   "pygments_lexer": "ipython3",
   "version": "3.6.7"
  }
 },
 "nbformat": 4,
 "nbformat_minor": 2
}
